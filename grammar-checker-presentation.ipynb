{
 "cells": [
  {
   "cell_type": "markdown",
   "id": "90f1cf00",
   "metadata": {
    "slideshow": {
     "slide_type": "slide"
    }
   },
   "source": [
    "# The Grammar Checker"
   ]
  },
  {
   "cell_type": "markdown",
   "id": "170cea73",
   "metadata": {
    "slideshow": {
     "slide_type": "fragment"
    }
   },
   "source": [
    "By Ritesh, Sunny and Tahseen"
   ]
  },
  {
   "cell_type": "markdown",
   "id": "1cf25538",
   "metadata": {
    "slideshow": {
     "slide_type": "slide"
    }
   },
   "source": [
    "## What is a Grammar Checker?"
   ]
  },
  {
   "cell_type": "markdown",
   "id": "7668aa50",
   "metadata": {
    "slideshow": {
     "slide_type": "subslide"
    }
   },
   "source": [
    "\"In my free time, I like to go out in a hike or two. After that, I usually get some food because I am hungry from hiking. I like to visit waterfalls, they are quite peaceful to be around, as well as magnificent to look at them.\""
   ]
  },
  {
   "cell_type": "markdown",
   "id": "4c2d541c",
   "metadata": {
    "slideshow": {
     "slide_type": "subslide"
    }
   },
   "source": [
    "**QuillBot:**\n",
    "\n",
    "![Quillbot Example](images/quillbot_sc.png)"
   ]
  },
  {
   "cell_type": "markdown",
   "id": "0ca8aa8f",
   "metadata": {
    "slideshow": {
     "slide_type": "subslide"
    }
   },
   "source": [
    "**Writer:**\n",
    "\n",
    "![Writer Example](images/writer_sc.png)"
   ]
  },
  {
   "cell_type": "markdown",
   "id": "10a5faff",
   "metadata": {
    "slideshow": {
     "slide_type": "subslide"
    }
   },
   "source": [
    "**GrammarCheck:**\n",
    "\n",
    "![GrammarCheck Example](images/grammarcheck_sc.png)"
   ]
  },
  {
   "cell_type": "markdown",
   "id": "cadd5fec",
   "metadata": {
    "slideshow": {
     "slide_type": "subslide"
    }
   },
   "source": [
    "**Grammarly:**\n",
    "\n",
    "![Grammarly Example](images/grammarly_sc.png)"
   ]
  },
  {
   "cell_type": "markdown",
   "id": "185f0302",
   "metadata": {
    "slideshow": {
     "slide_type": "subslide"
    }
   },
   "source": [
    "So, what is a grammar checker?"
   ]
  },
  {
   "cell_type": "markdown",
   "id": "6ea7da76",
   "metadata": {
    "slideshow": {
     "slide_type": "slide"
    }
   },
   "source": [
    "## The Theory Behind Grammar Checking"
   ]
  },
  {
   "cell_type": "markdown",
   "id": "742aebce",
   "metadata": {
    "slideshow": {
     "slide_type": "subslide"
    }
   },
   "source": [
    "### Rule-Based Checking:"
   ]
  },
  {
   "cell_type": "markdown",
   "id": "b1191687",
   "metadata": {
    "slideshow": {
     "slide_type": "fragment"
    }
   },
   "source": [
    "- A set of well-defined grammar rules designed by linguistic experts"
   ]
  },
  {
   "cell_type": "markdown",
   "id": "a5f342e0",
   "metadata": {
    "slideshow": {
     "slide_type": "fragment"
    }
   },
   "source": [
    "- Text tagged with parts of speech (POS) checked against rules to find error and to also find a rule to correct the error."
   ]
  },
  {
   "cell_type": "markdown",
   "id": "6e4874ac",
   "metadata": {
    "slideshow": {
     "slide_type": "fragment"
    }
   },
   "source": [
    "**Pros:**"
   ]
  },
  {
   "cell_type": "markdown",
   "id": "43cbce74",
   "metadata": {
    "slideshow": {
     "slide_type": "fragment"
    }
   },
   "source": [
    "- Easy to add, edit and delete rules."
   ]
  },
  {
   "cell_type": "markdown",
   "id": "231061c8",
   "metadata": {
    "slideshow": {
     "slide_type": "fragment"
    }
   },
   "source": [
    "- Detailed errors which is helpful for computer aided language learning."
   ]
  },
  {
   "cell_type": "markdown",
   "id": "6baa7eb1",
   "metadata": {
    "slideshow": {
     "slide_type": "fragment"
    }
   },
   "source": [
    "**Cons:**"
   ]
  },
  {
   "cell_type": "markdown",
   "id": "a4276105",
   "metadata": {
    "slideshow": {
     "slide_type": "fragment"
    }
   },
   "source": [
    "- Intense manual effort to create and validate these rules."
   ]
  },
  {
   "cell_type": "markdown",
   "id": "422157e4",
   "metadata": {
    "slideshow": {
     "slide_type": "fragment"
    }
   },
   "source": [
    "- Manual maintenence of hundreds of grammar rules is tedious and expensive."
   ]
  },
  {
   "cell_type": "markdown",
   "id": "8bfb9259",
   "metadata": {
    "slideshow": {
     "slide_type": "subslide"
    }
   },
   "source": [
    "### Machine Learning Technique:"
   ]
  },
  {
   "cell_type": "markdown",
   "id": "7907e648",
   "metadata": {
    "slideshow": {
     "slide_type": "fragment"
    }
   },
   "source": [
    "- Most popular technique for grammar checking at the moment."
   ]
  },
  {
   "cell_type": "markdown",
   "id": "cd888018",
   "metadata": {
    "slideshow": {
     "slide_type": "fragment"
    }
   },
   "source": [
    "- Supervised learning models study annotated corpus (large piece of text)"
   ]
  },
  {
   "cell_type": "markdown",
   "id": "68352df3",
   "metadata": {
    "slideshow": {
     "slide_type": "fragment"
    }
   },
   "source": [
    "- Performs statistical analysis to detect and correct grammatical errors."
   ]
  },
  {
   "cell_type": "markdown",
   "id": "bd4331bb",
   "metadata": {
    "slideshow": {
     "slide_type": "fragment"
    }
   },
   "source": [
    "**Pros:**"
   ]
  },
  {
   "cell_type": "markdown",
   "id": "de7e4873",
   "metadata": {
    "slideshow": {
     "slide_type": "fragment"
    }
   },
   "source": [
    "- Does not require extensive domain knowledge of the grammar (can be applied to any language)."
   ]
  },
  {
   "cell_type": "markdown",
   "id": "962657b8",
   "metadata": {
    "slideshow": {
     "slide_type": "fragment"
    }
   },
   "source": [
    "- Can identify more complex issues in writing (tone, word choice, clarity etc.)."
   ]
  },
  {
   "cell_type": "markdown",
   "id": "2eb724c2",
   "metadata": {
    "slideshow": {
     "slide_type": "fragment"
    }
   },
   "source": [
    "**Cons:**"
   ]
  },
  {
   "cell_type": "markdown",
   "id": "43dce9ce",
   "metadata": {
    "slideshow": {
     "slide_type": "fragment"
    }
   },
   "source": [
    "- Requires a large annotated corpus, otherwise model is unusable for grammar checking."
   ]
  },
  {
   "cell_type": "markdown",
   "id": "ffd00f53",
   "metadata": {
    "slideshow": {
     "slide_type": "fragment"
    }
   },
   "source": [
    "- Performance of model greatly depend on how 'clean' the corpus is."
   ]
  },
  {
   "cell_type": "markdown",
   "id": "9a3aa844",
   "metadata": {
    "slideshow": {
     "slide_type": "subslide"
    }
   },
   "source": [
    "### Hybrid Learning Technique:"
   ]
  },
  {
   "cell_type": "markdown",
   "id": "9baa3e4e",
   "metadata": {
    "slideshow": {
     "slide_type": "fragment"
    }
   },
   "source": [
    "- Combines both rule-based and ML technique to address a wide range of complex errors."
   ]
  },
  {
   "cell_type": "markdown",
   "id": "cdb8af2a",
   "metadata": {
    "slideshow": {
     "slide_type": "fragment"
    }
   },
   "source": [
    "- Rule-based is typically better at catching simpler errors while machine learning can identify more complex errors (e.g determiner errors)"
   ]
  },
  {
   "cell_type": "markdown",
   "id": "7a36f675",
   "metadata": {
    "slideshow": {
     "slide_type": "fragment"
    }
   },
   "source": [
    "- Reduces the workload in making hand-made rules."
   ]
  },
  {
   "cell_type": "markdown",
   "id": "dfc8ae7d",
   "metadata": {
    "slideshow": {
     "slide_type": "slide"
    }
   },
   "source": [
    "## Implementation"
   ]
  },
  {
   "cell_type": "markdown",
   "id": "b6967ab3",
   "metadata": {
    "slideshow": {
     "slide_type": "subslide"
    }
   },
   "source": [
    "How Jupyter Notebook works:\n",
    "\n",
    "![Notebook Components (source [1])](images/notebook_components.png)"
   ]
  },
  {
   "cell_type": "markdown",
   "id": "cbe8cbd7",
   "metadata": {
    "slideshow": {
     "slide_type": "subslide"
    }
   },
   "source": [
    "### Jupyter Extensions:\n",
    "\n",
    "![Screenshot of Jupyter Extensions Tab](images/jupyter-extensions-example.png)"
   ]
  },
  {
   "cell_type": "markdown",
   "id": "a7fc5238",
   "metadata": {
    "slideshow": {
     "slide_type": "subslide"
    }
   },
   "source": [
    "### Jupyter Extension Requirements:\n",
    "\n",
    "![Extension Requirements](images/jupyter-requirements.png)"
   ]
  },
  {
   "cell_type": "markdown",
   "id": "8fa30870",
   "metadata": {
    "slideshow": {
     "slide_type": "subslide"
    }
   },
   "source": [
    "### Libraries Used"
   ]
  },
  {
   "cell_type": "markdown",
   "id": "d34f21be",
   "metadata": {
    "slideshow": {
     "slide_type": "fragment"
    }
   },
   "source": [
    "<div style=\"text-align: cetner\" align=\"center\"><img style=\"margin:auto\" src=\"images/lt_logo.png\" /></div>"
   ]
  },
  {
   "cell_type": "markdown",
   "id": "8e8b358e",
   "metadata": {
    "slideshow": {
     "slide_type": "fragment"
    }
   },
   "source": [
    "![Re-Mark](images/remark_logo.svg)"
   ]
  },
  {
   "cell_type": "markdown",
   "id": "ec80312d",
   "metadata": {
    "slideshow": {
     "slide_type": "subslide"
    }
   },
   "source": [
    "### Markdown\n",
    "\n",
    "```\n",
    "Your very <b>nice</b>.\n",
    "```\n",
    "\n",
    "### AnnotatedText \n",
    "\n",
    "```\n",
    "{\"annotation\":[{\"interpretAs\":\"\",\"markup\":\"\",\"offset\":{\"end\":0,\"start\":0}},{\"offset\":{\"end\":10,\"start\":0},\"text\":\"Your very \"},{\"interpretAs\":\"\",\"markup\":\"<b>\",\"offset\":{\"end\":13,\"start\":10}},{\"offset\":{\"end\":17,\"start\":13},\"text\":\"nice\"},{\"interpretAs\":\"\",\"markup\":\"</b>\",\"offset\":{\"end\":21,\"start\":17}},{\"offset\":{\"end\":22,\"start\":21},\"text\":\".\"}]}\n",
    "```\n",
    "\n",
    "### Grammar check response\n",
    "\n",
    "```\n",
    "[{\"offset\": 0, \"errorLength\": 4, \"message\": \"Did you mean you're (short for you are)?\"}]\n",
    "```"
   ]
  },
  {
   "cell_type": "markdown",
   "id": "e43241b4",
   "metadata": {
    "slideshow": {
     "slide_type": "subslide"
    }
   },
   "source": [
    "### Extension Architecture\n",
    "\n",
    "![Diagram of Implementation](images/system_design.png)"
   ]
  },
  {
   "cell_type": "markdown",
   "id": "1cf3c6fe",
   "metadata": {
    "slideshow": {
     "slide_type": "slide"
    }
   },
   "source": [
    "## Demonstration"
   ]
  },
  {
   "cell_type": "markdown",
   "id": "b79a0a92",
   "metadata": {
    "slideshow": {
     "slide_type": "fragment"
    }
   },
   "source": [
    "\n",
    "**Disclaimer!**\n",
    "\n",
    "The LanguageTool API is not perfect! It (unfortunately) misses some grammatical errors that other tools (such as Grammarly) catches."
   ]
  },
  {
   "cell_type": "markdown",
   "id": "9294f43f",
   "metadata": {
    "slideshow": {
     "slide_type": "slide"
    }
   },
   "source": [
    "## Statistics\n",
    "\n",
    "**Errors per Chapter:**\n",
    "\n",
    "(Spelling errors, Grammar Errors)\n",
    "\n",
    "0. 32, 21\n",
    "1. 54, 89\n",
    "2. 14, 58\n",
    "3. 27, 85\n",
    "4. 12, 11\n",
    "5. 4, 30\n",
    "6. 12, 103\n",
    "7. 6, 84\n",
    "8. 1, 13\n",
    "9. 9, 64"
   ]
  },
  {
   "cell_type": "markdown",
   "id": "44476428",
   "metadata": {
    "slideshow": {
     "slide_type": "slide"
    }
   },
   "source": [
    "## Thank You for Watching! :)"
   ]
  },
  {
   "cell_type": "markdown",
   "id": "ab3a90d3",
   "metadata": {
    "slideshow": {
     "slide_type": "slide"
    }
   },
   "source": [
    "## Bibliography\n",
    "\n",
    "1. Soni, M., & Thakur, J. S. (2018). A systematic review of automated grammar checking in English language. arXiv preprint arXiv:1804.00540."
   ]
  },
  {
   "cell_type": "markdown",
   "id": "4130c1ea",
   "metadata": {
    "slideshow": {
     "slide_type": "slide"
    }
   },
   "source": [
    "## Image Sources / Repos:\n",
    "\n",
    "1. https://docs.jupyter.org/en/latest/projects/architecture/content-architecture.html\n",
    "\n",
    "2. https://github.com/remarkjs/remark\n",
    "\n",
    "3. https://www.npmjs.com/package/annotatedtext-remark"
   ]
  },
  {
   "cell_type": "markdown",
   "id": "53781f68",
   "metadata": {
    "slideshow": {
     "slide_type": "slide"
    }
   },
   "source": [
    "## Grammar Checkers\n",
    "\n",
    "1. https://quillbot.com/\n",
    "2. https://writer.com/grammar-checker/\n",
    "3. https://www.grammarcheck.net/editor/\n",
    "4. https://www.grammarly.com/\n",
    "5. https://languagetool.org/?msclkid=45b2b96dc1f911eca79f2a519e5fb6a8"
   ]
  }
 ],
 "metadata": {
  "celltoolbar": "Slideshow",
  "kernelspec": {
   "display_name": "Python 3 (ipykernel)",
   "language": "python",
   "name": "python3"
  },
  "language_info": {
   "codemirror_mode": {
    "name": "ipython",
    "version": 3
   },
   "file_extension": ".py",
   "mimetype": "text/x-python",
   "name": "python",
   "nbconvert_exporter": "python",
   "pygments_lexer": "ipython3",
   "version": "3.9.7"
  }
 },
 "nbformat": 4,
 "nbformat_minor": 5
}
